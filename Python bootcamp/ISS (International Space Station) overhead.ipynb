{
 "cells": [
  {
   "cell_type": "markdown",
   "id": "3ed2ba4c",
   "metadata": {},
   "source": [
    "# Trigger an email when ISS (International Space Station (NASA)) over the head"
   ]
  },
  {
   "cell_type": "code",
   "execution_count": 34,
   "id": "16a61c64",
   "metadata": {},
   "outputs": [],
   "source": [
    "import requests\n",
    "import smtplib\n",
    "\n",
    "from datetime import datetime\n"
   ]
  },
  {
   "cell_type": "code",
   "execution_count": 35,
   "id": "0aad7624",
   "metadata": {},
   "outputs": [],
   "source": [
    "#latitude and longitude for my village\n",
    "MY_LAT = 14.787388\n",
    "MY_LONG = 79.486534\n",
    "MY_EMAIL =\"rakesh95730@gmail.com\"\n",
    "PASSWORD=\"R@kesh765\"\n",
    "\n",
    "parameters ={\n",
    "    \"lat\":MY_LAT,\n",
    "    \"lng\":MY_LONG,\n",
    "    \"formatted\":0\n",
    "}\n",
    "def is_iss_overhead():\n",
    "    #ISS data\n",
    "    response = requests.get(url=\"http://api.open-notify.org/iss-now.json\")\n",
    "    response.raise_for_status()\n",
    "    data = response.json()\n",
    "\n",
    "    iss_latitude = float(data['iss_position']['latitude'])\n",
    "    iss_longitude = float(data['iss_position']['longitude'])\n",
    "\n",
    "    #check if iss is +5 or -5 degrees near to our location\n",
    "    if MY_LAT-5 <= iss_latitude <= MY_LAT +5 and MY_LONG-5 <= iss_longitude <= MY_LONG +5:\n",
    "        return True\n",
    "\n",
    "def is_night():\n",
    "    #sunrise-sunset data\n",
    "    response = requests.get(\"https://api.sunrise-sunset.org/json\",params=parameters)\n",
    "    response.raise_for_status()\n",
    "    data = response.json()\n",
    "\n",
    "    sunrise = int(data['results']['sunrise'].split(\"T\")[1].split(\":\")[0])\n",
    "    sunset= int(data['results']['sunset'].split(\"T\")[1].split(\":\")[0])\n",
    "\n",
    "    time_now = datetime.now()\n",
    "    time_now = int(time_now.hour)\n",
    "    if time_now >= sunset or time_now<=sunrise:\n",
    "        return True\n",
    "    \n",
    "\n",
    "\n",
    "if is_iss_overhead() and is_night():\n",
    "    with smtplib.SMTP(\"smtp.gmail.com\") as connection:\n",
    "        connection.starttls()\n",
    "        connection.login(MY_EMAIL,PASSWORD)\n",
    "        connection.sendmail(from_addr=MY_EMAIL,\n",
    "                            to_addrs=MY_EMAIL,\n",
    "                           msg=\"Subject:Look up.\\n\\nThe ISS is above you.\")\n",
    "        \n",
    "    \n",
    "\n",
    "    \n",
    "\n",
    "\n",
    "\n",
    "\n",
    "\n",
    "\n",
    "\n",
    "\n",
    "\n"
   ]
  },
  {
   "cell_type": "code",
   "execution_count": null,
   "id": "65727b07",
   "metadata": {},
   "outputs": [],
   "source": []
  }
 ],
 "metadata": {
  "kernelspec": {
   "display_name": "Python 3",
   "language": "python",
   "name": "python3"
  },
  "language_info": {
   "codemirror_mode": {
    "name": "ipython",
    "version": 3
   },
   "file_extension": ".py",
   "mimetype": "text/x-python",
   "name": "python",
   "nbconvert_exporter": "python",
   "pygments_lexer": "ipython3",
   "version": "3.8.8"
  }
 },
 "nbformat": 4,
 "nbformat_minor": 5
}
