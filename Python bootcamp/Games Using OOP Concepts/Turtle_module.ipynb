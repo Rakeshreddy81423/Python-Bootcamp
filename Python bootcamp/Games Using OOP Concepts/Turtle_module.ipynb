{
 "cells": [
  {
   "cell_type": "markdown",
   "id": "269a4655",
   "metadata": {},
   "source": [
    "# Working with Turtle"
   ]
  },
  {
   "cell_type": "code",
   "execution_count": 7,
   "id": "663c2c2f",
   "metadata": {},
   "outputs": [],
   "source": [
    "import turtle as t\n",
    "\n",
    "import random\n",
    "\n",
    "t.colormode(255)\n",
    "\n",
    "tally = t.Turtle()\n",
    "tally.speed(\"fastest\")\n",
    "tally.penup()\n",
    "tally.hideturtle()\n",
    "\n",
    "def random_color():\n",
    "    red = random.randint(0,255)\n",
    "    green = random.randint(0,255)\n",
    "    blue = random.randint(0,255)\n",
    "    \n",
    "    return (red,green,blue)\n",
    "\n",
    "\n",
    "\n",
    "\n",
    "        \n",
    "\n",
    "\n",
    "\n",
    "    \n",
    "    \n",
    "\n",
    "\n",
    "# for _ in range(200):\n",
    "#     tally.color(random_color())\n",
    "#     tally.forward(30)\n",
    "#     tally.setheading(random.choice(directions))\n",
    "\n",
    "\n",
    "\n"
   ]
  },
  {
   "cell_type": "markdown",
   "id": "633a7f20",
   "metadata": {},
   "source": [
    "# Drawing Spirograph"
   ]
  },
  {
   "cell_type": "code",
   "execution_count": 9,
   "id": "7650fe6e",
   "metadata": {},
   "outputs": [],
   "source": [
    "# tally = t.Turtle()\n",
    "# for i in range(1,360,5):\n",
    "#     tally.setheading(i)\n",
    "#     tally.color(random_color())\n",
    "#     tally.circle(100)\n",
    "    \n",
    "\n"
   ]
  },
  {
   "cell_type": "markdown",
   "id": "105b45e0",
   "metadata": {},
   "source": [
    "# Spot painting "
   ]
  },
  {
   "cell_type": "code",
   "execution_count": 8,
   "id": "e9b0fd5f",
   "metadata": {},
   "outputs": [],
   "source": [
    "import colorgram\n",
    "\n",
    "colors= colorgram.extract(\"C:/Users/rakes/OneDrive/Desktop/Python bootcamp/spot_painting.jpg\",30)\n",
    "\n",
    "rgb_colors =[]\n",
    "for color in colors:\n",
    "    r = color.rgb.r\n",
    "    g = color.rgb.g\n",
    "    b = color.rgb.b\n",
    "    rgb_colors.append((r,g,b))\n",
    "\n",
    "\n",
    "\n",
    "\n",
    "tally.setheading(225)\n",
    "tally.forward(250)\n",
    "tally.setheading(0)\n",
    "\n",
    "for i in range(10):\n",
    "    for i in range(10):\n",
    "        tally.dot(15,random.choice(rgb_colors))\n",
    "        tally.forward(50)\n",
    "        \n",
    "    tally.setheading(90)\n",
    "    tally.forward(50)\n",
    "    tally.setheading(180)\n",
    "    tally.forward(500)\n",
    "    tally.setheading(0)\n",
    "    \n",
    "\n",
    "my_screen = t.Screen()\n",
    "my_screen.exitonclick()\n"
   ]
  },
  {
   "cell_type": "markdown",
   "id": "29c9c08d",
   "metadata": {},
   "source": [
    "# Turtle Race using  Event Listners"
   ]
  },
  {
   "cell_type": "code",
   "execution_count": null,
   "id": "0a64f3e1",
   "metadata": {},
   "outputs": [
    {
     "name": "stdout",
     "output_type": "stream",
     "text": [
      "You won! red turtle is the winner!\n"
     ]
    }
   ],
   "source": [
    "import turtle as t\n",
    "\n",
    "import random\n",
    "\n",
    "screen = t.Screen()\n",
    "screen.setup(height = 500,width=500)\n",
    "user_bet =screen.textinput(title = \"Make your bet\",prompt= \"Which turtle will win the race? Enter a color: \")\n",
    "\n",
    "# def move_forward():\n",
    "#     tu.forward(10)\n",
    "    \n",
    "# def move_backward():\n",
    "#     tu.backward(10)\n",
    "# def turn_left():\n",
    "#     tu.left(10)\n",
    "    \n",
    "# def turn_right():\n",
    "#     tu.right(10)\n",
    "    \n",
    "\n",
    "# screen.listen()\n",
    "# screen.onkey(move_forward,\"w\")\n",
    "# screen.onkey(move_backward,\"s\")\n",
    "# screen.onkey(turn_right,\"d\")\n",
    "# screen.onkey(turn_left,\"a\")\n",
    "\n",
    "\n",
    "colors =[\"red\",\"green\",\"blue\",\"yellow\",\"orange\",\"black\"]\n",
    "all_turtles =[]\n",
    "y= -100\n",
    "for ind in range(1,7):\n",
    "    new_turtle = t.Turtle(shape=\"turtle\")\n",
    "    new_turtle.color(colors[ind-1])\n",
    "    new_turtle.penup()\n",
    "    new_turtle.goto(x=-240,y= y +(ind*30))\n",
    "    \n",
    "    all_turtles.append(new_turtle)\n",
    "    \n",
    "is_game_on = False\n",
    "if user_bet:\n",
    "    is_game_on =True\n",
    "    while is_game_on:\n",
    "        for turt in all_turtles: \n",
    "            if turt.xcor() > 240:\n",
    "                is_game_on =False\n",
    "                winner = turt.pencolor()\n",
    "                if winner == user_bet:\n",
    "                    print(f\"You won! {winner} turtle is the winner!\")\n",
    "                else:\n",
    "                    print(f\"You've lost! The {winner} turtle is winner\")\n",
    "                    \n",
    "            turt.forward(random.randint(0,10))\n",
    "            \n",
    "else:\n",
    "    print(\"No bet is placed.\")\n",
    "    \n",
    "\n",
    "\n",
    "\n",
    "screen.exitonclick()\n",
    "\n",
    "\n"
   ]
  },
  {
   "cell_type": "raw",
   "id": "a6bfafc9",
   "metadata": {},
   "source": []
  }
 ],
 "metadata": {
  "kernelspec": {
   "display_name": "Python 3",
   "language": "python",
   "name": "python3"
  },
  "language_info": {
   "codemirror_mode": {
    "name": "ipython",
    "version": 3
   },
   "file_extension": ".py",
   "mimetype": "text/x-python",
   "name": "python",
   "nbconvert_exporter": "python",
   "pygments_lexer": "ipython3",
   "version": "3.8.8"
  }
 },
 "nbformat": 4,
 "nbformat_minor": 5
}
