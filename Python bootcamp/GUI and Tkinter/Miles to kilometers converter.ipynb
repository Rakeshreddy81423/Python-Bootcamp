{
 "cells": [
  {
   "cell_type": "markdown",
   "id": "b42de2f9",
   "metadata": {},
   "source": [
    "# Miles to Km Converter using Tkinter"
   ]
  },
  {
   "cell_type": "code",
   "execution_count": 1,
   "id": "4951b5e7",
   "metadata": {},
   "outputs": [],
   "source": [
    "from tkinter import *"
   ]
  },
  {
   "cell_type": "code",
   "execution_count": 2,
   "id": "caa84dce",
   "metadata": {},
   "outputs": [],
   "source": [
    "window =Tk()\n",
    "\n",
    "window.title(\"Miles to Km Converter\")\n",
    "window.minsize(width = 500 ,height=500)\n",
    "window.config(padx=35,pady=20)\n",
    "\n",
    "\n",
    "\n",
    "\n",
    "#function to convert miles to km\n",
    "def miles_to_km():\n",
    "    miles = float(miles_input.get())\n",
    "    kms = int(miles * 1.609344)\n",
    "    output.config(text=f\"{kms}\")\n",
    "    \n",
    "    \n",
    "\n",
    "#user input\n",
    "miles_input = Entry(width=7)\n",
    "miles_input.grid(column = 1,row=0)\n",
    "\n",
    "#Button \n",
    "button = Button(text =\"calculate\",font=\"Arial\",command = miles_to_km)\n",
    "button.grid(column=1,row=2)\n",
    "\n",
    "#Labels\n",
    "mile = Label(text=\"Miles\",font =(\"Arial\",15,\"bold\"))\n",
    "mile.grid(column = 2 , row = 0)\n",
    "\n",
    "isequal = Label(text=\"is equal to\",font =(\"Arial\",15,\"bold\"))\n",
    "isequal.grid(column = 0,row=1,)\n",
    "\n",
    "\n",
    "output = Label(text=\"\",font =(\"Arial\",15,\"bold\"))\n",
    "output.grid(column=1,row=1)\n",
    "\n",
    "km = Label(text =\"Km\",font =(\"Arial\",15,\"bold\"))\n",
    "km.grid(column=2,row=1)\n",
    "\n",
    "\n",
    "\n",
    "window.mainloop()\n",
    "    "
   ]
  },
  {
   "cell_type": "code",
   "execution_count": null,
   "id": "e7aa823f",
   "metadata": {},
   "outputs": [],
   "source": []
  }
 ],
 "metadata": {
  "kernelspec": {
   "display_name": "Python 3",
   "language": "python",
   "name": "python3"
  },
  "language_info": {
   "codemirror_mode": {
    "name": "ipython",
    "version": 3
   },
   "file_extension": ".py",
   "mimetype": "text/x-python",
   "name": "python",
   "nbconvert_exporter": "python",
   "pygments_lexer": "ipython3",
   "version": "3.8.8"
  }
 },
 "nbformat": 4,
 "nbformat_minor": 5
}
