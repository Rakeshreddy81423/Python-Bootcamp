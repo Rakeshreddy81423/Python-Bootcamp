{
 "cells": [
  {
   "cell_type": "markdown",
   "id": "2fe92ca3",
   "metadata": {},
   "source": [
    "# Implementation of Beautiful soap to extract the data from Hacker news Website"
   ]
  },
  {
   "cell_type": "code",
   "execution_count": 37,
   "id": "69d3db4c",
   "metadata": {},
   "outputs": [],
   "source": [
    "from bs4 import BeautifulSoup\n",
    "\n",
    "import requests"
   ]
  },
  {
   "cell_type": "code",
   "execution_count": 43,
   "id": "279bedae",
   "metadata": {
    "scrolled": true
   },
   "outputs": [
    {
     "name": "stdout",
     "output_type": "stream",
     "text": [
      "[28, 147, 81, 136, 30, 17, 50, 19, 155, 36, 39, 28, 157, 242, 610, 175, 275, 163, 94, 262, 31, 114, 73, 223, 38, 26, 87, 161, 42, 70]\n",
      "Hexwords: Hex colors that are similar to words\n",
      "https://hexwords.netlify.app/\n",
      "610\n"
     ]
    }
   ],
   "source": [
    "url=\"https://news.ycombinator.com\"\n",
    "\n",
    "response = requests.get(url)\n",
    "\n",
    "yc_web_page = response.text\n",
    "\n",
    "soup = BeautifulSoup(yc_web_page,\"html.parser\")\n",
    "\n",
    "articles = soup.find_all(name=\"a\",class_=\"titlelink\")\n",
    "article_texts=[]\n",
    "article_links=[]\n",
    "for article_tag in articles:\n",
    "    article_texts.append(article_tag.getText())\n",
    "    article_links.append(article_tag.get(\"href\"))\n",
    "\n",
    "article_upvotes = [int(score.getText().split()[0]) for score in soup.find_all(name=\"span\",class_=\"score\")]\n",
    "\n",
    "\n",
    "\n",
    "index = article_upvotes.index(max(article_upvotes))\n",
    "print(article_upvotes)\n",
    "\n",
    "print(article_texts[index])\n",
    "print(article_links[index])\n",
    "print(article_upvotes[index])\n",
    "\n",
    "\n"
   ]
  },
  {
   "cell_type": "markdown",
   "id": "3af90875",
   "metadata": {},
   "source": [
    "### Some ethics should be followed while scraping . All the websites are not allowed to scrape their website. use /robots.txt at the end of url to know what data can be allowed to scrape on that particular website"
   ]
  },
  {
   "cell_type": "code",
   "execution_count": null,
   "id": "f8ad1c93",
   "metadata": {},
   "outputs": [],
   "source": []
  }
 ],
 "metadata": {
  "kernelspec": {
   "display_name": "Python 3",
   "language": "python",
   "name": "python3"
  },
  "language_info": {
   "codemirror_mode": {
    "name": "ipython",
    "version": 3
   },
   "file_extension": ".py",
   "mimetype": "text/x-python",
   "name": "python",
   "nbconvert_exporter": "python",
   "pygments_lexer": "ipython3",
   "version": "3.8.8"
  }
 },
 "nbformat": 4,
 "nbformat_minor": 5
}
