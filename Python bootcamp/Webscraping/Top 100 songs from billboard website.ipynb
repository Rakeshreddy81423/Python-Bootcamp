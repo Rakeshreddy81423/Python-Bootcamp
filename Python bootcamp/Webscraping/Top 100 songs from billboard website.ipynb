{
 "cells": [
  {
   "cell_type": "code",
   "execution_count": 1,
   "id": "44d3e720",
   "metadata": {},
   "outputs": [],
   "source": [
    "from bs4 import BeautifulSoup\n",
    "\n",
    "import requests\n",
    "\n",
    "\n",
    "\n"
   ]
  },
  {
   "cell_type": "code",
   "execution_count": 3,
   "id": "31938e62",
   "metadata": {},
   "outputs": [
    {
     "name": "stdout",
     "output_type": "stream",
     "text": [
      "['First Class', 'Wait For U', 'About Damn Time', 'Heat Waves', 'Big Energy', 'Me Porto Bonito', 'Running Up That Hill (A Deal With God)', 'Late Night Talking', 'Stay', 'Titi Me Pregunto', 'Enemy', 'Wasted On You', 'Moscow Mule', 'Ghost', 'Boyfriend', 'Woman', 'Bad Habits', 'Numb Little Bug', 'Super Gremlin', 'You Proof', 'True Love', 'Take My Name', 'Shivers', 'Sweetest Pie', 'Party', 'Bam Bam', 'Thats What I Want', 'Cold Heart (PNAU Remix)', 'Despues de La Playa', 'AA', 'Trouble With A Heartbreak', 'Puffin On Zootiez', 'Provenza', 'MAMIII', 'Ojitos Lindos', 'Cooped Up', \"'Til You Can't\", 'N95', 'Something In The Orange', 'Music For A Sushi Restaurant', 'Matilda', 'Thousand Miles', \"She's All I Wanna Be\", 'In A Minute', 'Daylight', 'Sleazy Flow', 'Damn Strait', 'Get Into It (Yuh)', 'Efecto', 'Silent Hill', 'Die Hard', 'Hold My Hand', '2step', 'Fall In Love', 'To The Moon!', 'Slow Down Summer', 'Little Freak', \"See Wat I'm Sayin\", 'Die Young', 'Grapejuice', 'Un Ratito', 'Tarot', \"When You're Gone\", 'Satellite', 'Like I Love Country Music', 'What Happened To Virgil', 'Never Say Never', 'Thought You Should Know', 'If I Was A Cowboy', 'Potion', 'Hotel Lobby (Unc And Phew)', 'Right On', 'Freaky Deaky', 'Cinema', 'Keep Driving', 'Daydreaming', 'Yo No Soy Celoso', 'Flower Shops', 'She Likes It', 'Love Of My Life', 'Ghost Story', 'Rich Spirit', 'La Corriente', 'Neverita', 'She Had Me At Heads Carolina', 'Sunroof', 'Boyfriends', 'Circles Around This Town', 'Dua Lipa', \"F.N.F. (Let's Go)\", 'Handsomer', \"I'm On One\", 'DFMU', 'Andrea', 'Love You Better', 'Wild Hearts', 'Last Night Lonely', '7500 OBO', 'Until I Found You']\n"
     ]
    }
   ],
   "source": [
    "url =\"https://www.billboard.com/charts/hot-100/\"\n",
    "\n",
    "response = requests.get(url)\n",
    "\n",
    "billboard_html = response.text\n",
    "\n",
    "soup = BeautifulSoup(billboard_html,\"html.parser\")\n",
    "\n",
    "song_name_tags = soup.find_all(\"h3\",\n",
    "                               class_=\"c-title a-no-trucate a-font-primary-bold-s u-letter-spacing-0021 lrv-u-font-size-18@tablet lrv-u-font-size-16 u-line-height-125 u-line-height-normal@mobile-max a-truncate-ellipsis u-max-width-330 u-max-width-230@tablet-only\")\n",
    "songs = []\n",
    "for song in song_name_tags:\n",
    "    songs.append(song.getText().strip(\"\\n\\t\"))\n",
    "    \n",
    "    \n",
    "\n",
    "print(songs)\n",
    "\n",
    "\n",
    "\n",
    "\n",
    "    \n"
   ]
  },
  {
   "cell_type": "code",
   "execution_count": null,
   "id": "6ca59298",
   "metadata": {},
   "outputs": [],
   "source": []
  }
 ],
 "metadata": {
  "kernelspec": {
   "display_name": "Python 3",
   "language": "python",
   "name": "python3"
  },
  "language_info": {
   "codemirror_mode": {
    "name": "ipython",
    "version": 3
   },
   "file_extension": ".py",
   "mimetype": "text/x-python",
   "name": "python",
   "nbconvert_exporter": "python",
   "pygments_lexer": "ipython3",
   "version": "3.8.8"
  }
 },
 "nbformat": 4,
 "nbformat_minor": 5
}
