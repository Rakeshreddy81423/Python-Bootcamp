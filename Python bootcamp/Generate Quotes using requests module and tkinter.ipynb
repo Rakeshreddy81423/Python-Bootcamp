{
 "cells": [
  {
   "cell_type": "code",
   "execution_count": 1,
   "id": "92af33c4",
   "metadata": {},
   "outputs": [],
   "source": [
    "from tkinter import *\n",
    "import requests"
   ]
  },
  {
   "cell_type": "code",
   "execution_count": 2,
   "id": "7230308f",
   "metadata": {},
   "outputs": [],
   "source": [
    "\n",
    "\n",
    "\n",
    "\n",
    "def get_quote():\n",
    "    response = requests.get(\"https://api.kanye.rest\")\n",
    "    response.raise_for_status()\n",
    "    data = response.json()\n",
    "    quote = data['quote']\n",
    "    canvas.itemconfig(word_text,text=quote)\n",
    "    \n",
    "    \n",
    "window =Tk()\n",
    "window.title(\"Quotes\")\n",
    "window.config(padx=50,pady=50,bg=\"#FFB9AE\")\n",
    "\n",
    "#canvas\n",
    "canvas = Canvas(height=400,width=850)\n",
    "canvas.config(bg=\"#73B9AE\",highlightthickness=0,relief=\"raised\")\n",
    "word_text = canvas.create_text(400,200,text=\"Qoute goes here\",font=(\"Arial\",10,\"bold\"),fill=\"Black\")\n",
    "canvas.grid(column=0,row=0,columnspan=2)\n",
    "\n",
    "\n",
    "#buttons\n",
    "button = Button(text=\"Kanye Quote\",highlightthickness=0, width=20,command=get_quote)\n",
    "button.grid(row=1,column=0,pady=10,padx=300)\n",
    "\n",
    "\n",
    "\n",
    "\n",
    "\n",
    "window.mainloop()"
   ]
  },
  {
   "cell_type": "code",
   "execution_count": null,
   "id": "07bc820c",
   "metadata": {},
   "outputs": [],
   "source": []
  }
 ],
 "metadata": {
  "kernelspec": {
   "display_name": "Python 3",
   "language": "python",
   "name": "python3"
  },
  "language_info": {
   "codemirror_mode": {
    "name": "ipython",
    "version": 3
   },
   "file_extension": ".py",
   "mimetype": "text/x-python",
   "name": "python",
   "nbconvert_exporter": "python",
   "pygments_lexer": "ipython3",
   "version": "3.8.8"
  }
 },
 "nbformat": 4,
 "nbformat_minor": 5
}
